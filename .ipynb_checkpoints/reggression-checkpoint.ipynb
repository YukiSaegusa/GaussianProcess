{
 "cells": [
  {
   "cell_type": "code",
   "execution_count": 33,
   "metadata": {},
   "outputs": [],
   "source": [
    "import numpy as np\n",
    "import scipy as sp\n",
    "import math\n",
    "from scipy.optimize.slsqp import approx_jacobian\n",
    "import matplotlib.pyplot as plt"
   ]
  },
  {
   "cell_type": "markdown",
   "metadata": {},
   "source": [
    "# データ点準備"
   ]
  },
  {
   "cell_type": "code",
   "execution_count": 34,
   "metadata": {},
   "outputs": [],
   "source": [
    "def stateFunction(x):\n",
    "        return 0.2*x +  25*x/(1+x**2) + 8*np.cos(1.2 * x) + np.random.normal(\n",
    "    loc   = 0,      # 平均\n",
    "    scale = 0.05**2,      # 標準偏差\n",
    "\n",
    ")"
   ]
  },
  {
   "cell_type": "markdown",
   "metadata": {},
   "source": [
    "# ガウス過程"
   ]
  },
  {
   "cell_type": "code",
   "execution_count": 5,
   "metadata": {},
   "outputs": [],
   "source": [
    "\n"
   ]
  },
  {
   "cell_type": "code",
   "execution_count": 20,
   "metadata": {},
   "outputs": [],
   "source": [
    "# パラメータ"
   ]
  },
  {
   "cell_type": "code",
   "execution_count": 7,
   "metadata": {},
   "outputs": [],
   "source": [
    "# https://qiita.com/ctgk/items/4c4607edf15072cddc46\n",
    "class GaussianKernel(object):\n",
    "    # カーネル関数のパラメータa,bを初期化\n",
    "    def __init__(self, params):\n",
    "        assert np.shape(params) == (2,)\n",
    "        self.__params = params\n",
    "\n",
    "    # カーネル関数のパラメータa,bを返す\n",
    "    def get_params(self):\n",
    "        return np.copy(self.__params)\n",
    "\n",
    "     # x,yを入力としてカーネル関数の値を計算 PRML式(6.63)\n",
    "    def __call__(self, x, y):\n",
    "        return self.__params[0] * np.exp(-0.5 * self.__params[1] * (x - y) ** 2)\n",
    "\n",
    "    # x,yを入力とした時のカーネル関数のパラメータでの微分を計算\n",
    "    def derivatives(self, x, y):\n",
    "        sq_diff = (x - y) ** 2\n",
    "        # パラメータaでの微分\n",
    "        delta_0 = np.exp(-0.5 * self.__params[1] * sq_diff)\n",
    "        # パラメータbでの微分\n",
    "        delta_1 = -0.5 * sq_diff * delta_0 * self.__params[0]\n",
    "        return (delta_0, delta_1)\n",
    "\n",
    "    # カーネル関数のパラメータを更新\n",
    "    def update_parameters(self, updates):\n",
    "        assert np.shape(updates) == (2,)\n",
    "        self.__params += updates"
   ]
  },
  {
   "cell_type": "code",
   "execution_count": 14,
   "metadata": {},
   "outputs": [],
   "source": [
    "class GaussianProcessRegression(object):\n",
    "    # カーネル関数とノイズの精度パラメータの初期化\n",
    "    def __init__(self, kernel, beta=1.):\n",
    "        self.kernel = kernel\n",
    "        self.beta = beta\n",
    "\n",
    "    # カーネル関数のパラメータ推定を行わずに回帰\n",
    "    def fit(self, x, t):\n",
    "        self.x = x\n",
    "        self.t = t\n",
    "        # グラム行列の計算 PRML式(6.54)\n",
    "        Gram = self.kernel(*np.meshgrid(x, x))\n",
    "        # 共分散行列の計算 PRML式(6.62)\n",
    "        self.covariance = Gram + np.identity(len(x)) / self.beta\n",
    "        # 精度行列の計算\n",
    "        self.precision = np.linalg.inv(self.covariance)\n",
    "\n",
    "    # カーネル関数のパラメータの推定を行う回帰\n",
    "    def fit_kernel(self, x, t, learning_rate=0.1, iter_max=10000):\n",
    "        for i in range(iter_max):\n",
    "            params = self.kernel.get_params()\n",
    "            # カーネル関数の今のパラメータで回帰\n",
    "            self.fit(x, t)\n",
    "            # 対数エビデンス関数をパラメータで微分\n",
    "            gradients = self.kernel.derivatives(*np.meshgrid(x, x))\n",
    "            # パラメータの更新量を計算 PRML式(6.70)\n",
    "            updates = np.array(\n",
    "                [-np.trace(self.precision.dot(grad)) + t.dot(self.precision.dot(grad).dot(self.precision).dot(t)) for grad in gradients])\n",
    "            # パラメータを更新\n",
    "            self.kernel.update_parameters(learning_rate * updates)\n",
    "            # パラメータの更新量が小さければ更新をやめる\n",
    "            if np.allclose(params, self.kernel.get_params()):\n",
    "                break\n",
    "        else:\n",
    "            # 既定の更新回数だけ更新してもパラメータの更新量が小さくない場合以下の文を出力\n",
    "            print(\"parameters may not have converged\")\n",
    "\n",
    "    # 予測分布を出力\n",
    "    def predict_dist(self, x):\n",
    "        K = self.kernel(*np.meshgrid(x, self.x, indexing='ij'))\n",
    "        # 予測分布の平均を計算 PRML式(6.66)\n",
    "        mean = K.dot(self.precision).dot(self.t)\n",
    "        # 予測分布の分散を計算 PRML式(6.67)\n",
    "        var = self.kernel(x, x) + 1 / self.beta - np.sum(K.dot(self.precision) * K, axis=1)\n",
    "        return mean.ravel(), np.sqrt(var.ravel())"
   ]
  },
  {
   "cell_type": "code",
   "execution_count": 15,
   "metadata": {},
   "outputs": [],
   "source": [
    "# def kernel(x,y,alpha,beta):\n",
    "#     return alpha**2*math.exp((-1/2)*beta)"
   ]
  },
  {
   "cell_type": "code",
   "execution_count": 16,
   "metadata": {},
   "outputs": [],
   "source": []
  },
  {
   "cell_type": "code",
   "execution_count": 17,
   "metadata": {},
   "outputs": [],
   "source": [
    "def create_toy_data(func, low=0, high=1., n=10, std=1.):\n",
    "    x = np.random.uniform(low, high, n)\n",
    "    t = func(x) + np.random.normal(scale=std, size=n)\n",
    "    return x, t"
   ]
  },
  {
   "cell_type": "code",
   "execution_count": 31,
   "metadata": {},
   "outputs": [],
   "source": [
    "def main():\n",
    "    # 学習データが従う関数を設定\n",
    "    # 学習データを生成\n",
    "    x, t = create_toy_data(func, high=0.7, std=0.1)\n",
    "\n",
    "    # カーネル関数の設定、パラメータはてきとうに設定\n",
    "    kernel = GaussianKernel(params=np.array([1., 1.]))\n",
    "    # ガウス過程回帰に用いるカーネル関数と精度パラメータ(真の値)の設定\n",
    "    regression = GaussianProcessRegression(kernel=kernel, beta=100)\n",
    "    # カーネル関数のパラメータの推定も含めた回帰、regression.fit(x,t)に替えるとパラメータを推定せず回帰\n",
    "    regression.fit_kernel(x, t, learning_rate=0.1, iter_max=10000)\n",
    "\n",
    "    # テストデータについて予測分布を出力\n",
    "    x_test = np.linspace(0, 1, 100)\n",
    "    y, y_std = regression.predict_dist(x_test)\n",
    "\n",
    "    # 回帰の結果をプロット\n",
    "    plt.scatter(x, t, alpha=0.5, color=\"blue\", label=\"observation\")\n",
    "    plt.plot(x_test, func(x_test), color=\"blue\", label=\"sin$(2\\pi x)$\")\n",
    "    plt.plot(x_test, y, color=\"red\", label=\"predict_mean\")\n",
    "    plt.fill_between(x_test, y - y_std, y + y_std, color=\"pink\", alpha=0.5, label=\"predict_std\")\n",
    "    plt.legend(loc=\"lower left\")\n",
    "    plt.show()\n",
    "    return kernel"
   ]
  },
  {
   "cell_type": "code",
   "execution_count": 32,
   "metadata": {},
   "outputs": [
    {
     "data": {
      "image/png": "[encoded data removed]",
      "text/plain": [
       "<Figure size 432x288 with 1 Axes>"
      ]
     },
     "metadata": {
      "needs_background": "light"
     },
     "output_type": "display_data"
    }
   ],
   "source": [
    "hoge = main()"
   ]
  },
  {
   "cell_type": "code",
   "execution_count": null,
   "metadata": {},
   "outputs": [],
   "source": [
    "arrayKernel =     "
   ]
  },
  {
   "cell_type": "markdown",
   "metadata": {},
   "source": [
    "## EKF"
   ]
  },
  {
   "cell_type": "code",
   "execution_count": 27,
   "metadata": {},
   "outputs": [],
   "source": [
    "#!/usr/bin/env python\n",
    "# -*- coding: utf-8 -*-\n",
    "# https://satomacoto.blogspot.com/2011/06/python_22.html\n",
    "def ekf():\n",
    "    # 初期化\n",
    "    T = 50 # 観測数\n",
    "    x = 0 # 初期位置\n",
    "    X = np.mat([0])# 状態\n",
    "    Y = np.mat([0])# 観測\n",
    " \n",
    "    # state x = A * x_ + B * u + w, w~N(0,Q)\n",
    "#     A = np.mat([[1,0],[0,1]])\n",
    "#     B = np.mat([[1,0],[0,1]])\n",
    "#     u = np.mat([[2],[2]])\n",
    "#     Q = np.mat([[1,0],[0,1]])\n",
    "    # observation Y = h(x) + v, v~N(0,R)\n",
    "#     R = np.mat([[2,0,0],[0,2,0],[0,0,2]])\n",
    "    reggression = main()\n",
    "    \n",
    "    def h(x):\n",
    "        x = (x[0,0],x[1,0])\n",
    "        return np.mat([[h_(x,p0)],[h_(x,p1)],[h_(x,p2)]])\n",
    "    def Jh0(x):        \n",
    "        \"\"\"\n",
    "        解析的に求めるh(x)のヤコビアン\n",
    "        \"\"\"\n",
    "        x = (x[0,0],x[1,0])\n",
    "        return np.mat([[(x[0]-p0[0])/h_(x,p0),(x[1]-p0[1])/h_(x,p0)],\n",
    "                       [(x[0]-p1[0])/h_(x,p1),(x[1]-p1[1])/h_(x,p1)],\n",
    "                       [(x[0]-p2[0])/h_(x,p2),(x[1]-p2[1])/h_(x,p2)]])\n",
    "    def Jh1(x):\n",
    "        \"\"\"\n",
    "        数値的に求めるh(x)のヤコビアン\n",
    "        \"\"\"\n",
    "        x = (x[0,0],x[1,0])\n",
    "        h = lambda x: np.asfarray([h_(x,p0),h_(x,p1),h_(x,p2)])\n",
    "        return np.mat(approx_jacobian(x,h,np.sqrt(np.finfo(float).eps)))        \n",
    "     \n",
    "    # 観測データの生成\n",
    "    for i in range(T):\n",
    "        x = A * x + B * u + np.random.multivariate_normal([0,0],Q,1).T\n",
    "        X.append(x)\n",
    "        y = h(x) + np.random.multivariate_normal([0,0,0],R,1).T\n",
    "        Y.append(y)\n",
    "     \n",
    "    # EKF\n",
    "    mu = np.mat([[0],[0]])\n",
    "    Sigma = np.mat([[0,0],[0,0]])    \n",
    "    M = [mu] # 推定\n",
    "    for i in range(T):\n",
    "        # prediction\n",
    "        mu_ = A * mu + B * u\n",
    "        Sigma_ = Q + A * Sigma * A.T\n",
    "        # update\n",
    "        #C = Jh0(mu_) # 解析的\n",
    "        C = Jh1(mu_) # 数値的\n",
    "        yi = Y[i+1] - C * mu_\n",
    "        S = C * Sigma_ * C.T + R\n",
    "        K = Sigma_ * C.T * S.I\n",
    "        mu = mu_ + K * yi\n",
    "        Sigma = Sigma_ - K * C * Sigma_\n",
    "        M.append(mu)\n",
    " \n",
    "    # 描画\n",
    "    a,b = np.array(np.concatenate(X,axis=1))\n",
    "    plt.plot(a,b,'rs-')\n",
    "    a,b = np.array(np.concatenate(M,axis=1))\n",
    "    plt.plot(a,b,'bo-')\n",
    "    plt.axis('equal')\n",
    "    plt.show()\n"
   ]
  },
  {
   "cell_type": "code",
   "execution_count": 28,
   "metadata": {},
   "outputs": [
    {
     "data": {
      "image/png": "[encoded data removed]",
      "text/plain": [
       "<Figure size 432x288 with 1 Axes>"
      ]
     },
     "metadata": {
      "needs_background": "light"
     },
     "output_type": "display_data"
    }
   ],
   "source": [
    "ekf()"
   ]
  },
  {
   "cell_type": "code",
   "execution_count": null,
   "metadata": {},
   "outputs": [],
   "source": []
  }
 ],
 "metadata": {
  "kernelspec": {
   "display_name": "Python 3",
   "language": "python",
   "name": "python3"
  },
  "language_info": {
   "codemirror_mode": {
    "name": "ipython",
    "version": 3
   },
   "file_extension": ".py",
   "mimetype": "text/x-python",
   "name": "python",
   "nbconvert_exporter": "python",
   "pygments_lexer": "ipython3",
   "version": "3.6.7"
  }
 },
 "nbformat": 4,
 "nbformat_minor": 2
}
