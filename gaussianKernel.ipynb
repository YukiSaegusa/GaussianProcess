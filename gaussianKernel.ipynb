{
 "cells": [
  {
   "cell_type": "code",
   "execution_count": 3,
   "metadata": {},
   "outputs": [],
   "source": [
    "import numpy as np\n",
    "import scipy as sp\n",
    "import math\n",
    "import random\n",
    "from scipy.optimize.slsqp import approx_jacobian\n",
    "import matplotlib.pyplot as plt\n",
    "\n",
    "class GaussianKernel(object):\n",
    "    # カーネル関数のパラメータa,bを初期化\n",
    "    def __init__(self, params):\n",
    "        assert np.shape(params) == (2,)\n",
    "        self.__params = params\n",
    "\n",
    "    # カーネル関数のパラメータa,bを返す\n",
    "    def get_params(self):\n",
    "        return np.copy(self.__params)\n",
    "\n",
    "     # x,yを入力としてカーネル関数の値を計算 PRML式(6.63)\n",
    "    def __call__(self, x, y):\n",
    "        return (self.__params[0])* np.exp(-0.5 * self.__params[1] * (x - y) ** 2)\n",
    "\n",
    "    # x,yを入力とした時のカーネル関数のパラメータでの微分を計算\n",
    "    def derivatives(self, x, y):\n",
    "        sq_diff = (x - y) ** 2\n",
    "        # パラメータaでの微分\n",
    "        delta_0 = 2*self.__params[0]*np.exp(-0.5 * self.__params[1] * sq_diff)\n",
    "        # パラメータbでの微分\n",
    "        delta_1 = -0.5 * sq_diff * self.__params[0]**2*np.exp(-0.5 * self.__params[1] * sq_diff)\n",
    "        return (delta_0, delta_1)\n",
    "\n",
    "    # カーネル関数のパラメータを更新\n",
    "    def update_parameters(self, updates):\n",
    "        assert np.shape(updates) == (2,)\n",
    "        self.__params += updates"
   ]
  },
  {
   "cell_type": "code",
   "execution_count": null,
   "metadata": {},
   "outputs": [],
   "source": []
  }
 ],
 "metadata": {
  "kernelspec": {
   "display_name": "Python 3",
   "language": "python",
   "name": "python3"
  },
  "language_info": {
   "codemirror_mode": {
    "name": "ipython",
    "version": 3
   },
   "file_extension": ".py",
   "mimetype": "text/x-python",
   "name": "python",
   "nbconvert_exporter": "python",
   "pygments_lexer": "ipython3",
   "version": "3.6.7"
  }
 },
 "nbformat": 4,
 "nbformat_minor": 2
}
