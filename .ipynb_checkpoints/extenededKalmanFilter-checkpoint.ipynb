{
 "cells": [
  {
   "cell_type": "code",
   "execution_count": 1,
   "metadata": {},
   "outputs": [],
   "source": [
    "import numpy as np\n",
    "import scipy as sp\n",
    "import math\n",
    "import random\n",
    "from scipy.optimize.slsqp import approx_jacobian\n",
    "import matplotlib.pyplot as plt\n",
    "\n",
    "class Ekf(object):\n",
    "    # 初期化\n",
    "    def __init__(self,stateFunction,observationFunction,stateFunction_j,observationFunction_j,\n",
    "                 y,noise_s = np.random.normal(loc = 0,scale = 0.5), noise_o= np.random.normal(loc = 0,scale = 0.05),theta = 0,t = 50):\n",
    "        #状態方程式、観測方程式\n",
    "        #jはヤコビアン\n",
    "        self.steps = 0\n",
    "        self.noise_s = noise_s\n",
    "        self.noise_o = noise_o\n",
    "        self.theta = theta\n",
    "        self.t = t\n",
    "        self.stateFunction = stateFunction\n",
    "        self.observationFunction = observationFunction\n",
    "        self.stateFunction_j = stateFunction_j\n",
    "        self.observationFunction_j = observationFunction_j\n",
    "        self.x = np.zeros(t+1)\n",
    "        self.x[0] = 10\n",
    "        self.y = y #観測値\n",
    "        self.P = np.zeros(t+1)\n",
    "        self.P[0] = 1\n",
    "        self.K = np.zeros(t+1)\n",
    "    \n",
    "    def updateParams(self):\n",
    "        steps = self.steps\n",
    "        assumed_x = self.stateFunction(self.x[steps])\n",
    "        self.K[steps] = self.P[steps]*self.observationFunction_j(assumed_x)/(self.observationFunction_j(assumed_x)**2*self.P[steps]\n",
    "                                                                             +self.noise_o**2)\n",
    "        self.x[steps+1] = assumed_x - self.K[steps]*(self.y[steps+1]-self.observationFunction(assumed_x))\n",
    "        self.P[steps+1] = self.stateFunction_j(self.x[steps+1])**2*(self.P[steps]**(-1)\n",
    "                                                                 +self.observationFunction_j(assumed_x)**2*self.noise_o**(-2)+self.theta)**(-1)+self.noise_s**2\n",
    "        self.steps = steps +1\n",
    "#         print(assumed_x,self.x[self.steps],realXt[steps+1],self.observationFunction(assumed_x),self.y[steps+1])\n",
    "    def filtering(self):\n",
    "        self.steps = 0\n",
    "        for i in range(self.t):\n",
    "            self.updateParams()\n",
    "            \n",
    "    def show(self):\n",
    "        test_t = np.array([x for x in range(self.t+1)])\n",
    "        plt.plot(test_t,self.x,self.observationFunction(assumed_x))"
   ]
  },
  {
   "cell_type": "code",
   "execution_count": null,
   "metadata": {},
   "outputs": [],
   "source": []
  }
 ],
 "metadata": {
  "kernelspec": {
   "display_name": "Python 3",
   "language": "python",
   "name": "python3"
  },
  "language_info": {
   "codemirror_mode": {
    "name": "ipython",
    "version": 3
   },
   "file_extension": ".py",
   "mimetype": "text/x-python",
   "name": "python",
   "nbconvert_exporter": "python",
   "pygments_lexer": "ipython3",
   "version": "3.6.7"
  }
 },
 "nbformat": 4,
 "nbformat_minor": 2
}
